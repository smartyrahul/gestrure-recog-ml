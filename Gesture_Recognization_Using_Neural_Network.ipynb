{
  "nbformat": 4,
  "nbformat_minor": 0,
  "metadata": {
    "colab": {
      "name": "Neural_Nets_Project_Starter_Code.ipynb",
      "version": "0.3.2",
      "provenance": [],
      "collapsed_sections": []
    },
    "kernelspec": {
      "name": "python3",
      "display_name": "Python 3"
    },
    "accelerator": "GPU"
  },
  "cells": [
    {
      "metadata": {
        "id": "8R0BBW36kC-X",
        "colab_type": "text"
      },
      "cell_type": "markdown",
      "source": [
        "##Import Data from Google Drive"
      ]
    },
    {
      "metadata": {
        "id": "KrU6Nkct4P9e",
        "colab_type": "code",
        "colab": {}
      },
      "cell_type": "code",
      "source": [
        "import os\n",
        "from google_drive_downloader import GoogleDriveDownloader as gdd\n",
        "  \n",
        "if os.path.isdir(\"./Project_data\") is False:\n",
        "  gdd.download_file_from_google_drive(file_id='1ehyrYBQ5rbQQe6yL4XbLWe3FMvuVUGiL',\n",
        "                                      dest_path='./data',\n",
        "                                      unzip=True)"
      ],
      "execution_count": 0,
      "outputs": []
    },
    {
      "metadata": {
        "id": "8LyeSOvmzlzU",
        "colab_type": "text"
      },
      "cell_type": "markdown",
      "source": [
        "# Gesture Recognition\n",
        "In this group project, you are going to build a 3D Conv model that will be able to predict the 5 gestures correctly. Please import the following libraries to get started."
      ]
    },
    {
      "metadata": {
        "id": "dDtJjM0WzlzX",
        "colab_type": "code",
        "colab": {}
      },
      "cell_type": "code",
      "source": [
        "import numpy as np\n",
        "import os\n",
        "from scipy.misc import imread, imresize\n",
        "import datetime\n",
        "import os\n",
        "import warnings\n",
        "warnings.filterwarnings('ignore')"
      ],
      "execution_count": 0,
      "outputs": []
    },
    {
      "metadata": {
        "id": "0I1OJ_nWzlzj",
        "colab_type": "text"
      },
      "cell_type": "markdown",
      "source": [
        "We set the random seed so that the results don't vary drastically."
      ]
    },
    {
      "metadata": {
        "id": "mO1LU69Qzlzm",
        "colab_type": "code",
        "colab": {
          "base_uri": "https://localhost:8080/",
          "height": 34
        },
        "outputId": "0055c8df-00d3-47fe-e374-9cefa848c01d"
      },
      "cell_type": "code",
      "source": [
        "np.random.seed(30)\n",
        "import random as rn\n",
        "rn.seed(30)\n",
        "from keras import backend as K\n",
        "import tensorflow as tf\n",
        "tf.set_random_seed(30)"
      ],
      "execution_count": 3,
      "outputs": [
        {
          "output_type": "stream",
          "text": [
            "Using TensorFlow backend.\n"
          ],
          "name": "stderr"
        }
      ]
    },
    {
      "metadata": {
        "id": "bWx3txpWzlzv",
        "colab_type": "text"
      },
      "cell_type": "markdown",
      "source": [
        "In this block, you read the folder names for training and validation. You also set the `batch_size` here. Note that you set the batch size in such a way that you are able to use the GPU in full capacity. You keep increasing the batch size until the machine throws an error."
      ]
    },
    {
      "metadata": {
        "id": "8kaMcxPdzlzz",
        "colab_type": "code",
        "colab": {}
      },
      "cell_type": "code",
      "source": [
        "train_doc = np.random.permutation(open('./Project_data/train.csv').readlines())\n",
        "val_doc = np.random.permutation(open('./Project_data/val.csv').readlines())\n",
        "batch_size = 40#experiment with the batch size"
      ],
      "execution_count": 0,
      "outputs": []
    },
    {
      "metadata": {
        "id": "sZKFjtlJkPaf",
        "colab_type": "text"
      },
      "cell_type": "markdown",
      "source": [
        "Normalize the image"
      ]
    },
    {
      "metadata": {
        "id": "1mki6DDxuzo1",
        "colab_type": "code",
        "colab": {}
      },
      "cell_type": "code",
      "source": [
        "def normalize_image(image):\n",
        "  #norm3_image = image - np.percentile(image,5)/ np.percentile(image,95) - np.percentile(image,5)\n",
        "  norm1_image = image/255\n",
        "  return norm1_image"
      ],
      "execution_count": 0,
      "outputs": []
    },
    {
      "metadata": {
        "id": "LQplnDC8JrOy",
        "colab_type": "code",
        "colab": {}
      },
      "cell_type": "code",
      "source": [
        "dest_image_row = 90\n",
        "dest_image_col = 90"
      ],
      "execution_count": 0,
      "outputs": []
    },
    {
      "metadata": {
        "id": "_uZoibxAzlz8",
        "colab_type": "text"
      },
      "cell_type": "markdown",
      "source": [
        "## Generator\n",
        "This is one of the most important part of the code. it resizes input image as per dest_image_row/col value."
      ]
    },
    {
      "metadata": {
        "id": "qwy1dvHwzlz_",
        "colab_type": "code",
        "colab": {}
      },
      "cell_type": "code",
      "source": [
        "img_idx = [i for i in range(30) if i%2 == 0]#create a list of image numbers you want to use for a particular video\n",
        "x = len(img_idx)# x is the number of images you use for each video,\n",
        "y = dest_image_row #(y,z) is the final size of the input images \n",
        "z = dest_image_col\n",
        "def generator(source_path, folder_list, batch_size):\n",
        "    \n",
        "    while True:\n",
        "        t = np.random.permutation(folder_list)\n",
        "        num_batches = len(folder_list)//batch_size\n",
        "        for batch in range(num_batches): # we iterate over the number of batches\n",
        "            \n",
        "            batch_data = np.zeros((batch_size,x,y,z,3))  # 3 is the number of channels RGB\n",
        "            batch_labels = np.zeros((batch_size,5)) # batch_labels is the one hot representation of the output\n",
        "            for folder in range(batch_size): # iterate over the batch_size\n",
        "                imgs = os.listdir(source_path+'/'+ t[folder + (batch*batch_size)].split(';')[0]) # read all the images in the folder\n",
        "                for idx,item in enumerate(img_idx): #  Iterate iver the frames/images of a folder to read them in\n",
        "                    image = imread(source_path+'/'+ t[folder + (batch*batch_size)].strip().split(';')[0]+'/'+imgs[item]).astype(np.float32)\n",
        "                    image = imresize(image, (y, z))\n",
        "                    batch_data[folder,idx,:,:] = normalize_image(image[:,:])\n",
        "                    \n",
        "                batch_labels[folder, int(t[folder + (batch*batch_size)].strip().split(';')[2])] = 1\n",
        "            yield batch_data, batch_labels #you yield the batch_data and the batch_labels, remember what does yield do\n",
        "\n",
        "        \n",
        "        # write the code for the remaining data points which are left after full batches\n",
        "        noleftOverFolder = (len(folder_list))%batch_size\n",
        "        startIndex = num_batches * batch_size\n",
        "        \n",
        "        batch_data = np.zeros((noleftOverFolder,x,y,z,3))  # 3 is the number of channels RGB\n",
        "        batch_labels = np.zeros((noleftOverFolder,5)) # batch_labels is the one hot representation of the output\n",
        "        folder = 0\n",
        "        while(startIndex < len(folder_list)): # iterate over the batch_size\n",
        "            imgs = os.listdir(source_path+'/'+ t[startIndex].split(';')[0]) # read all the images in the folder\n",
        "            for idx,item in enumerate(img_idx): #  Iterate iver the frames/images of a folder to read them in\n",
        "                image = imread(source_path+'/'+ t[startIndex].strip().split(';')[0]+'/'+imgs[item]).astype(np.float32)\n",
        "                image = imresize(image, (y, z))\n",
        "                batch_data[folder,idx,:,:] = normalize_image(image[:,:])\n",
        "                \n",
        "            batch_labels[folder, int(t[startIndex].strip().split(';')[2])] = 1\n",
        "            #increase the index by 1 \n",
        "            startIndex = startIndex + 1\n",
        "            folder = folder + 1 #need to increase the folder number\n",
        "        yield batch_data, batch_labels #you yield the batch_data and the batch_labels, remember "
      ],
      "execution_count": 0,
      "outputs": []
    },
    {
      "metadata": {
        "id": "-ZNh9Gz_-h-n",
        "colab_type": "code",
        "colab": {}
      },
      "cell_type": "code",
      "source": [
        ""
      ],
      "execution_count": 0,
      "outputs": []
    },
    {
      "metadata": {
        "id": "1Y2FmDG2zl0I",
        "colab_type": "text"
      },
      "cell_type": "markdown",
      "source": [
        "Note here that a video is represented above in the generator as (number of images, height, width, number of channels). Take this into consideration while creating the model architecture."
      ]
    },
    {
      "metadata": {
        "id": "zBW9L5J_zl0L",
        "colab_type": "code",
        "colab": {}
      },
      "cell_type": "code",
      "source": [
        "curr_dt_time = datetime.datetime.now()\n",
        "train_path = './Project_data/train'\n",
        "val_path = './Project_data/val'\n",
        "num_train_sequences = len(train_doc)\n",
        "print('# training sequences =', num_train_sequences)\n",
        "num_val_sequences = len(val_doc)\n",
        "print('# validation sequences =', num_val_sequences)\n",
        "num_epochs = 25# choose the number of epochs\n",
        "print ('# epochs =', num_epochs)"
      ],
      "execution_count": 0,
      "outputs": []
    },
    {
      "metadata": {
        "id": "lc3tvEtXzl0W",
        "colab_type": "text"
      },
      "cell_type": "markdown",
      "source": [
        "## Model\n",
        "Here you make the model using different functionalities that Keras provides. "
      ]
    },
    {
      "metadata": {
        "id": "h12CDHjuMHAw",
        "colab_type": "code",
        "colab": {}
      },
      "cell_type": "code",
      "source": [
        "#write your model here\n",
        "\n",
        "img_channels = 3\n",
        "img_rows = dest_image_row\n",
        "img_cols = dest_image_col\n",
        "nb_classes = 5\n",
        "num_of_frame = len(img_idx) #TODO: hardcoding right now\n",
        "\n"
      ],
      "execution_count": 0,
      "outputs": []
    },
    {
      "metadata": {
        "id": "65yYo-MLjZzB",
        "colab_type": "code",
        "colab": {}
      },
      "cell_type": "code",
      "source": [
        "def getModel(type):\n",
        "  if type == 'conv3d':\n",
        "    model = Sequential()\n",
        "    model.add(Conv3D(2, (3,3,3), padding = 'same', input_shape= [num_of_frame, img_rows,img_cols, img_channels] ))\n",
        "    model.add(Activation('relu'))\n",
        "    model.add(MaxPooling3D(pool_size=(2, 2, 2)))\n",
        "    model.add(Conv3D(64, (3,3,3)))\n",
        "    model.add(Activation('relu'))\n",
        "    model.add(MaxPooling3D(pool_size=(2, 2, 2)))\n",
        "    model.add(Conv3D(128, (1,3,3)))\n",
        "    model.add(Activation('relu'))\n",
        "    model.add(MaxPooling3D(pool_size=(2, 2, 2)))\n",
        "    model.add(Dropout(0.25))\n",
        "\n",
        "    model.add(Flatten())\n",
        "    model.add(Dense(256))\n",
        "    model.add(Activation('relu'))\n",
        "    model.add(Dropout(0.5))\n",
        "    model.add(Dense(nb_classes))\n",
        "    model.add(Activation('softmax'))\n",
        "  elif type =='LSTM':\n",
        "    video = Input(shape=(num_of_frame,\n",
        "                     img_rows,\n",
        "                     img_cols,\n",
        "                     img_channels))\n",
        "    cnn_base = VGG16(input_shape=(img_rows,\n",
        "                                  img_cols, \n",
        "                                  img_channels),\n",
        "                     weights='imagenet',\n",
        "                     include_top=False)\n",
        "    cnn_out = GlobalAveragePooling2D()(cnn_base.output)\n",
        "    cnn = Model(input=cnn_base.input, output=cnn_out)\n",
        "    cnn.trainable = False\n",
        "    encoded_frames = TimeDistributed(cnn)(video)\n",
        "    encoded_sequence = LSTM(256)(encoded_frames)\n",
        "    hidden_layer = Dense(activation=\"relu\", units=1024)(encoded_sequence)\n",
        "    outputs = Dense(activation=\"softmax\", units=5)(hidden_layer)\n",
        "    model = Model([video], outputs)\n",
        "    optimizer = optimizers.SGD(lr=0.01, decay=0.0, momentum=0.0, nesterov=True)\n",
        "    model.compile(loss=\"categorical_crossentropy\",\n",
        "              optimizer=optimizer,\n",
        "              metrics=[\"categorical_accuracy\"]) \n",
        "  elif type =='GRU':\n",
        "    video = Input(shape=(num_of_frame,\n",
        "                     img_rows,\n",
        "                     img_cols,\n",
        "                     img_channels))\n",
        "    cnn_base = VGG16(input_shape=(img_rows,\n",
        "                                  img_cols, \n",
        "                                  img_channels),\n",
        "                     weights='imagenet',\n",
        "                     include_top=False)\n",
        "    cnn_out = GlobalAveragePooling2D()(cnn_base.output)\n",
        "    cnn = Model(input=cnn_base.input, output=cnn_out)\n",
        "    cnn.trainable = False\n",
        "    encoded_frames = TimeDistributed(cnn)(video)\n",
        "    encoded_sequence = LSTM(256)(encoded_frames)\n",
        "    hidden_layer = Dense(activation=\"relu\", units=1024)(encoded_sequence)\n",
        "    outputs = Dense(activation=\"softmax\", units=5)(hidden_layer)\n",
        "    model = Model([video], outputs)\n",
        "    optimizer = optimizers.SGD(lr=0.01, decay=0.0, momentum=0.0, nesterov=True)\n",
        "    model.compile(loss=\"categorical_crossentropy\",\n",
        "              optimizer=optimizer,\n",
        "              metrics=[\"categorical_accuracy\"]) \n",
        "  \n",
        "  return model"
      ],
      "execution_count": 0,
      "outputs": []
    },
    {
      "metadata": {
        "id": "1RtRUPHoj0QD",
        "colab_type": "code",
        "colab": {}
      },
      "cell_type": "code",
      "source": [
        "from keras.models import Sequential, Model\n",
        "from keras.layers import Dense, GRU, Flatten, TimeDistributed, Flatten, BatchNormalization, Activation, Dropout, LSTM, Input\n",
        "from keras.layers.convolutional import Conv3D, MaxPooling3D\n",
        "from keras.callbacks import ModelCheckpoint, ReduceLROnPlateau\n",
        "from keras import optimizers\n",
        "from keras.layers.pooling import GlobalAveragePooling2D\n",
        "\n",
        "from keras.applications.vgg16 import VGG16\n",
        "from keras.layers.wrappers import TimeDistributed\n"
      ],
      "execution_count": 0,
      "outputs": []
    },
    {
      "metadata": {
        "id": "B41qI5kgzl0m",
        "colab_type": "text"
      },
      "cell_type": "markdown",
      "source": [
        "Now that you have written the model, the next step is to `compile` the model. When you print the `summary` of the model, you'll see the total number of parameters you have to train."
      ]
    },
    {
      "metadata": {
        "id": "zWkCo19AbqBd",
        "colab_type": "code",
        "colab": {}
      },
      "cell_type": "code",
      "source": [
        "model = getModel('GRU')"
      ],
      "execution_count": 0,
      "outputs": []
    },
    {
      "metadata": {
        "scrolled": true,
        "id": "BALAArH1zl0o",
        "colab_type": "code",
        "colab": {}
      },
      "cell_type": "code",
      "source": [
        "optimizer = optimizers.SGD(lr=0.01, decay=0.0, momentum=0.0, nesterov=True)\n",
        "model.compile(optimizer=optimizer, loss='categorical_crossentropy', metrics=['categorical_accuracy'])\n",
        "print (model.summary())"
      ],
      "execution_count": 0,
      "outputs": []
    },
    {
      "metadata": {
        "id": "xwRBesBYzl0x",
        "colab_type": "text"
      },
      "cell_type": "markdown",
      "source": [
        "Let us create the `train_generator` and the `val_generator` which will be used in `.fit_generator`."
      ]
    },
    {
      "metadata": {
        "id": "z85TTA_Ozl02",
        "colab_type": "code",
        "colab": {}
      },
      "cell_type": "code",
      "source": [
        "train_generator = generator(train_path, train_doc, batch_size)\n",
        "val_generator = generator(val_path, val_doc, batch_size)"
      ],
      "execution_count": 0,
      "outputs": []
    },
    {
      "metadata": {
        "id": "A1mSmgujzl1A",
        "colab_type": "code",
        "colab": {}
      },
      "cell_type": "code",
      "source": [
        "model_name = 'model_init' + '_' + str(curr_dt_time).replace(' ','').replace(':','_') + '/'\n",
        "    \n",
        "if not os.path.exists(model_name):\n",
        "    os.mkdir(model_name)\n",
        "        \n",
        "filepath = model_name + 'model-{epoch:05d}-{loss:.5f}-{categorical_accuracy:.5f}-{val_loss:.5f}-{val_categorical_accuracy:.5f}.h5'\n",
        "\n",
        "checkpoint = ModelCheckpoint(filepath, monitor='val_loss', verbose=1, save_best_only=False, save_weights_only=False, mode='auto', period=1)\n",
        "\n",
        "LR = ReduceLROnPlateau(monitor='val_loss', factor=0.2, patience=2, cooldown =1)# write the REducelronplateau code here\n",
        "callbacks_list = [checkpoint, LR]\n",
        "#callbacks_list = [checkpoint]"
      ],
      "execution_count": 0,
      "outputs": []
    },
    {
      "metadata": {
        "id": "5LqCptPUzl1J",
        "colab_type": "text"
      },
      "cell_type": "markdown",
      "source": [
        "The `steps_per_epoch` and `validation_steps` are used by `fit_generator` to decide the number of next() calls it need to make."
      ]
    },
    {
      "metadata": {
        "id": "_bFNpWoEzl1M",
        "colab_type": "code",
        "colab": {}
      },
      "cell_type": "code",
      "source": [
        "if (num_train_sequences%batch_size) == 0:\n",
        "    steps_per_epoch = int(num_train_sequences/batch_size)\n",
        "else:\n",
        "    steps_per_epoch = (num_train_sequences//batch_size) + 1\n",
        "\n",
        "if (num_val_sequences%batch_size) == 0:\n",
        "    validation_steps = int(num_val_sequences/batch_size)\n",
        "else:\n",
        "    validation_steps = (num_val_sequences//batch_size) + 1"
      ],
      "execution_count": 0,
      "outputs": []
    },
    {
      "metadata": {
        "id": "w2USbGXKzl1a",
        "colab_type": "text"
      },
      "cell_type": "markdown",
      "source": [
        "Let us now fit the model. This will start training the model and with the help of the checkpoints, you'll be able to save the model at the end of each epoch."
      ]
    },
    {
      "metadata": {
        "id": "_dsoMyN8zl1g",
        "colab_type": "code",
        "colab": {}
      },
      "cell_type": "code",
      "source": [
        "model.fit_generator(train_generator, steps_per_epoch=steps_per_epoch, epochs=num_epochs, verbose=1, \n",
        "                    callbacks=callbacks_list, validation_data=val_generator, \n",
        "                    validation_steps=validation_steps, class_weight=None, workers=1, initial_epoch=0)"
      ],
      "execution_count": 0,
      "outputs": []
    },
    {
      "metadata": {
        "id": "umedAUQPoWwA",
        "colab_type": "text"
      },
      "cell_type": "markdown",
      "source": [
        ""
      ]
    }
  ]
}